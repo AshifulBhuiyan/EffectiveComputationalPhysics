{
 "cells": [
  {
   "cell_type": "code",
   "execution_count": 18,
   "id": "1dda4dbe",
   "metadata": {},
   "outputs": [
    {
     "data": {
      "text/plain": [
       "[1, 1, 2, 3, 5, 8]"
      ]
     },
     "execution_count": 18,
     "metadata": {},
     "output_type": "execute_result"
    }
   ],
   "source": [
    "[1,1]+[2,3,5]+[8]"
   ]
  },
  {
   "cell_type": "code",
   "execution_count": 19,
   "id": "950924ae",
   "metadata": {},
   "outputs": [
    {
     "data": {
      "text/plain": [
       "[1, 1, 2, 3, 5, 8, 13]"
      ]
     },
     "execution_count": 19,
     "metadata": {},
     "output_type": "execute_result"
    }
   ],
   "source": [
    "fib = [1,1,2,3,5,8]\n",
    "fib.append(5+8)\n",
    "fib"
   ]
  },
  {
   "cell_type": "code",
   "execution_count": 20,
   "id": "01e57f40",
   "metadata": {},
   "outputs": [
    {
     "data": {
      "text/plain": [
       "[1, 1, 2, 3, 5, 8, 13, 21, 34, 55]"
      ]
     },
     "execution_count": 20,
     "metadata": {},
     "output_type": "execute_result"
    }
   ],
   "source": [
    "fib.extend([21,34,55])\n",
    "fib"
   ]
  },
  {
   "cell_type": "code",
   "execution_count": 21,
   "id": "b8e3ca3f",
   "metadata": {},
   "outputs": [
    {
     "data": {
      "text/plain": [
       "[1, 1, 2, 3, 5, 8, 13, 21, 34, 55, 89, 144]"
      ]
     },
     "execution_count": 21,
     "metadata": {},
     "output_type": "execute_result"
    }
   ],
   "source": [
    "fib += [89,144]\n",
    "fib"
   ]
  },
  {
   "cell_type": "code",
   "execution_count": 22,
   "id": "7f1bcf30",
   "metadata": {},
   "outputs": [
    {
     "data": {
      "text/plain": [
       "[1, 2, 5, 13, 34, 89]"
      ]
     },
     "execution_count": 22,
     "metadata": {},
     "output_type": "execute_result"
    }
   ],
   "source": [
    "fib[::2]"
   ]
  },
  {
   "cell_type": "code",
   "execution_count": 23,
   "id": "e5c6ae0b",
   "metadata": {},
   "outputs": [
    {
     "data": {
      "text/plain": [
       "[1, 1, 2, 'whoops', 5, 8, 13, 21, 34, 55, 89, 144]"
      ]
     },
     "execution_count": 23,
     "metadata": {},
     "output_type": "execute_result"
    }
   ],
   "source": [
    "fib[3] = \"whoops\"\n",
    "fib"
   ]
  },
  {
   "cell_type": "code",
   "execution_count": 24,
   "id": "d20610c0",
   "metadata": {},
   "outputs": [
    {
     "data": {
      "text/plain": [
       "[8, 13, 21, 34, 55, 89, 144]"
      ]
     },
     "execution_count": 24,
     "metadata": {},
     "output_type": "execute_result"
    }
   ],
   "source": [
    "del fib[:5]\n",
    "fib"
   ]
  },
  {
   "cell_type": "code",
   "execution_count": 26,
   "id": "6ffaea6d",
   "metadata": {},
   "outputs": [
    {
     "name": "stdout",
     "output_type": "stream",
     "text": [
      "[3, 'two', 1, 'blast off!']\n"
     ]
    }
   ],
   "source": [
    "x = [3,2,1, \"blast off!\"]\n",
    "y=x\n",
    "y[1] = \"two\"\n",
    "print(x)"
   ]
  },
  {
   "cell_type": "code",
   "execution_count": null,
   "id": "05aea033",
   "metadata": {},
   "outputs": [],
   "source": []
  }
 ],
 "metadata": {
  "kernelspec": {
   "display_name": "Python 3 (ipykernel)",
   "language": "python",
   "name": "python3"
  },
  "language_info": {
   "codemirror_mode": {
    "name": "ipython",
    "version": 3
   },
   "file_extension": ".py",
   "mimetype": "text/x-python",
   "name": "python",
   "nbconvert_exporter": "python",
   "pygments_lexer": "ipython3",
   "version": "3.9.16"
  }
 },
 "nbformat": 4,
 "nbformat_minor": 5
}

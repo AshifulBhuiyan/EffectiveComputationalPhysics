{
 "cells": [
  {
   "attachments": {},
   "cell_type": "markdown",
   "metadata": {},
   "source": [
    "# Classes and Objects\n"
   ]
  },
  {
   "cell_type": "code",
   "execution_count": null,
   "metadata": {},
   "outputs": [],
   "source": [
    "#particle.py\n",
    "class Particle(object):\n",
    "    \"\"\"A particle is a constituent unit\"\"\"\n",
    "    # class body definition\n",
    "    roar = \"I ama particle!\"\n"
   ]
  },
  {
   "cell_type": "code",
   "execution_count": 75,
   "metadata": {},
   "outputs": [
    {
     "name": "stdout",
     "output_type": "stream",
     "text": [
      "I ama particle!\n",
      "I ama particle!\n"
     ]
    }
   ],
   "source": [
    "import particle as p\n",
    "print(p.Particle.roar)\n",
    "higgs = p.Particle()\n",
    "print(higgs.roar)"
   ]
  },
  {
   "cell_type": "code",
   "execution_count": 76,
   "metadata": {},
   "outputs": [
    {
     "name": "stdout",
     "output_type": "stream",
     "text": [
      "{'x': 100.0, 'y': 38.0, 'z': -42.0}\n",
      "{'x': 0.01, 'y': 99.0, 'z': 32.0}\n"
     ]
    }
   ],
   "source": [
    "import particle as p\n",
    "#from particle import Particle as  | breaks the code???\n",
    "\n",
    "obs = []\n",
    "obs.append(p.Particle())\n",
    "obs[0].r = {'x': 100.0, 'y': 38.0, 'z': -42.0}\n",
    "obs.append(p.Particle())\n",
    "obs[1].r = {'x': 0.01, 'y': 99.0, 'z': 32.0}\n",
    "print(obs[0].r)\n",
    "print(obs[1].r)"
   ]
  },
  {
   "attachments": {},
   "cell_type": "markdown",
   "metadata": {},
   "source": [
    "### Constructors\n",
    "- fn that is executed upon instantiation of an object\n",
    "- when u set `higgs = p.Particle()`, an object of the `Particle` type is created and the `__init__()` method is called to initialize that object\n",
    "\n",
    "- can specify specific data values upon initialization\n",
    "    - `__init__()` method is written to accept arguments:\n",
    "    "
   ]
  },
  {
   "cell_type": "code",
   "execution_count": 77,
   "metadata": {},
   "outputs": [],
   "source": [
    "# particle.py\n",
    "class Particle(object):\n",
    "    \"\"\"A particle is a constituent unit of the universe.\n",
    "    128\n",
    "    |\n",
    "    Attributes\n",
    "    ----------\n",
    "    c : charge in units of [e]\n",
    "    m : mass in units of [kg]\n",
    "    r : position in units of [meters]\n",
    "    \"\"\"\n",
    "roar = \"I am a particle!\"\n",
    "\n",
    "def __init__(self, charge, mass, position):\n",
    "    \"\"\"Initializes the particle with supplied values for\n",
    "    charge c, mass m, and position r.\n",
    "    \"\"\"\n",
    "    self.c = charge\n",
    "    self.m = mass\n",
    "    self.r = position"
   ]
  },
  {
   "attachments": {},
   "cell_type": "markdown",
   "metadata": {},
   "source": [
    "### Methods\n",
    "- are functions that are tied to a class definition"
   ]
  },
  {
   "cell_type": "code",
   "execution_count": 78,
   "metadata": {},
   "outputs": [],
   "source": [
    "# particle.py\n",
    "class Particle(object):\n",
    "    \"\"\"A particle is a constituent unit of the universe.\n",
    "    128\n",
    "\n",
    "    Attributes\n",
    "    ----------\n",
    "\n",
    "    c : charge in units of [e]\n",
    "    m : mass in units of [kg]\n",
    "    r : position in units of [meters]\n",
    "    \"\"\"\n",
    "roar = \"I am a particle!\"\n",
    "\n",
    "def __init__(self, charge, mass, position):\n",
    "    \"\"\"Initializes the particle with supplied values for\n",
    "    charge c, mass m, and position r.\n",
    "    \"\"\"\n",
    "    self.c = charge\n",
    "    self.m = mass\n",
    "    self.r = position\n",
    "\n",
    "def hear_me(self):\n",
    "    myroar = self.roar + (\n",
    "        \"My charge is:      \" + str(self.c) +\n",
    "        \"My mass is:        \" + str(self.m) +\n",
    "        \"My x position is:  \" + str(self.r['x']) + \n",
    "        \"My y position is:  \" + str(self.r['y']) + \n",
    "        \"My z position is:  \" + str(self.r['z'])\n",
    "    )\n",
    "    print(myroar)"
   ]
  },
  {
   "cell_type": "code",
   "execution_count": null,
   "metadata": {},
   "outputs": [],
   "source": [
    "from scipy import constants\n",
    "import particle as p\n",
    "m_p = constants.m_p\n",
    "r_p = {'x' : 1, 'y': 1, 'z': 53}\n",
    "a_p = p.Particle(1, m_p, r_p)\n",
    "a_p.hear_me()"
   ]
  },
  {
   "cell_type": "code",
   "execution_count": null,
   "metadata": {},
   "outputs": [],
   "source": []
  }
 ],
 "metadata": {
  "kernelspec": {
   "display_name": "Python 3 (ipykernel)",
   "language": "python",
   "name": "python3"
  },
  "language_info": {
   "codemirror_mode": {
    "name": "ipython",
    "version": 3
   },
   "file_extension": ".py",
   "mimetype": "text/x-python",
   "name": "python",
   "nbconvert_exporter": "python",
   "pygments_lexer": "ipython3",
   "version": "3.10.6"
  },
  "orig_nbformat": 4
 },
 "nbformat": 4,
 "nbformat_minor": 2
}

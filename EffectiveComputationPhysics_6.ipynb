{
 "cells": [
  {
   "attachments": {},
   "cell_type": "markdown",
   "metadata": {},
   "source": [
    "# Classes and Objects\n"
   ]
  },
  {
   "cell_type": "code",
   "execution_count": 1,
   "metadata": {},
   "outputs": [],
   "source": [
    "#particle.py\n",
    "class Particle(object):\n",
    "    \"\"\"A particle is a constituent unit\"\"\"\n",
    "    # class body definition\n",
    "    roar = \"I ama particle!\"\n"
   ]
  },
  {
   "cell_type": "code",
   "execution_count": 2,
   "metadata": {},
   "outputs": [
    {
     "name": "stdout",
     "output_type": "stream",
     "text": [
      "I am a particle!\n"
     ]
    },
    {
     "ename": "TypeError",
     "evalue": "Particle.__init__() missing 3 required positional arguments: 'charge', 'mass', and 'position'",
     "output_type": "error",
     "traceback": [
      "\u001b[0;31m---------------------------------------------------------------------------\u001b[0m",
      "\u001b[0;31mTypeError\u001b[0m                                 Traceback (most recent call last)",
      "Cell \u001b[0;32mIn[2], line 3\u001b[0m\n\u001b[1;32m      1\u001b[0m \u001b[39mimport\u001b[39;00m \u001b[39mparticle\u001b[39;00m \u001b[39mas\u001b[39;00m \u001b[39mp\u001b[39;00m\n\u001b[1;32m      2\u001b[0m \u001b[39mprint\u001b[39m(p\u001b[39m.\u001b[39mParticle\u001b[39m.\u001b[39mroar)\n\u001b[0;32m----> 3\u001b[0m higgs \u001b[39m=\u001b[39m p\u001b[39m.\u001b[39;49mParticle()\n\u001b[1;32m      4\u001b[0m \u001b[39mprint\u001b[39m(higgs\u001b[39m.\u001b[39mroar)\n",
      "\u001b[0;31mTypeError\u001b[0m: Particle.__init__() missing 3 required positional arguments: 'charge', 'mass', and 'position'"
     ]
    }
   ],
   "source": [
    "import particle as p\n",
    "print(p.Particle.roar)\n",
    "higgs = p.Particle()\n",
    "print(higgs.roar)"
   ]
  },
  {
   "cell_type": "code",
   "execution_count": null,
   "metadata": {},
   "outputs": [
    {
     "name": "stdout",
     "output_type": "stream",
     "text": [
      "{'x': 100.0, 'y': 38.0, 'z': -42.0}\n",
      "{'x': 0.01, 'y': 99.0, 'z': 32.0}\n"
     ]
    }
   ],
   "source": [
    "import particle as p\n",
    "#from particle import Particle as  | breaks the code???\n",
    "\n",
    "obs = []\n",
    "obs.append(p.Particle())\n",
    "obs[0].r = {'x': 100.0, 'y': 38.0, 'z': -42.0}\n",
    "obs.append(p.Particle())\n",
    "obs[1].r = {'x': 0.01, 'y': 99.0, 'z': 32.0}\n",
    "print(obs[0].r)\n",
    "print(obs[1].r)"
   ]
  },
  {
   "attachments": {},
   "cell_type": "markdown",
   "metadata": {},
   "source": [
    "### Constructors\n",
    "- fn that is executed upon instantiation of an object\n",
    "- when u set `higgs = p.Particle()`, an object of the `Particle` type is created and the `__init__()` method is called to initialize that object\n",
    "\n",
    "- can specify specific data values upon initialization\n",
    "    - `__init__()` method is written to accept arguments:\n",
    "    "
   ]
  },
  {
   "cell_type": "code",
   "execution_count": null,
   "metadata": {},
   "outputs": [],
   "source": [
    "# particle.py\n",
    "class Particle(object):\n",
    "    \"\"\"A particle is a constituent unit of the universe.\n",
    "    128\n",
    "    |\n",
    "    Attributes\n",
    "    ----------\n",
    "    c : charge in units of [e]\n",
    "    m : mass in units of [kg]\n",
    "    r : position in units of [meters]\n",
    "    \"\"\"\n",
    "roar = \"I am a particle!\"\n",
    "\n",
    "def __init__(self, charge, mass, position):\n",
    "    \"\"\"Initializes the particle with supplied values for\n",
    "    charge c, mass m, and position r.\n",
    "    \"\"\"\n",
    "    self.c = charge\n",
    "    self.m = mass\n",
    "    self.r = position"
   ]
  },
  {
   "attachments": {},
   "cell_type": "markdown",
   "metadata": {},
   "source": [
    "### Methods\n",
    "- are functions that are tied to a class definition"
   ]
  },
  {
   "cell_type": "code",
   "execution_count": null,
   "metadata": {},
   "outputs": [],
   "source": [
    "# particle.py\n",
    "class Particle(object):\n",
    "    \"\"\"A particle is a constituent unit of the universe.\n",
    "    128\n",
    "\n",
    "    Attributes\n",
    "    ----------\n",
    "\n",
    "    c : charge in units of [e]\n",
    "    m : mass in units of [kg]\n",
    "    r : position in units of [meters]\n",
    "    \"\"\"\n",
    "    roar = \"I am a particle!\"\n",
    "\n",
    "    def __init__(self, charge, mass, position):\n",
    "        \"\"\"Initializes the particle with supplied values for\n",
    "        charge c, mass m, and position r.\n",
    "        \"\"\"\n",
    "        self.c = charge\n",
    "        self.m = mass\n",
    "        self.r = position\n",
    "\n",
    "    def hear_me(self):\n",
    "        myroar = self.roar + (\n",
    "            \" My charge is:      \" + str(self.c) +\n",
    "            \" My mass is:        \" + str(self.m) +\n",
    "            \" My x position is:  \" + str(self.r['x']) + \n",
    "            \" My y position is:  \" + str(self.r['y']) + \n",
    "            \" My z position is:  \" + str(self.r['z'])\n",
    "        )\n",
    "        print(myroar)"
   ]
  },
  {
   "cell_type": "code",
   "execution_count": null,
   "metadata": {},
   "outputs": [
    {
     "ename": "TypeError",
     "evalue": "Particle() takes no arguments",
     "output_type": "error",
     "traceback": [
      "\u001b[0;31m---------------------------------------------------------------------------\u001b[0m",
      "\u001b[0;31mTypeError\u001b[0m                                 Traceback (most recent call last)",
      "Cell \u001b[0;32mIn[16], line 5\u001b[0m\n\u001b[1;32m      3\u001b[0m m_p \u001b[39m=\u001b[39m constants\u001b[39m.\u001b[39mm_p\n\u001b[1;32m      4\u001b[0m r_p \u001b[39m=\u001b[39m {\u001b[39m'\u001b[39m\u001b[39mx\u001b[39m\u001b[39m'\u001b[39m : \u001b[39m1\u001b[39m, \u001b[39m'\u001b[39m\u001b[39my\u001b[39m\u001b[39m'\u001b[39m: \u001b[39m1\u001b[39m, \u001b[39m'\u001b[39m\u001b[39mz\u001b[39m\u001b[39m'\u001b[39m: \u001b[39m53\u001b[39m}\n\u001b[0;32m----> 5\u001b[0m a_p \u001b[39m=\u001b[39m p\u001b[39m.\u001b[39;49mParticle(\u001b[39m1\u001b[39;49m, m_p, r_p)\n\u001b[1;32m      6\u001b[0m a_p\u001b[39m.\u001b[39mhear_me()\n",
      "\u001b[0;31mTypeError\u001b[0m: Particle() takes no arguments"
     ]
    }
   ],
   "source": [
    "from scipy import constants\n",
    "import particle as p\n",
    "m_p = constants.m_p\n",
    "r_p = {'x' : 1, 'y': 1, 'z': 53}\n",
    "a_p = p.Particle(1, m_p, r_p)\n",
    "a_p.hear_me()"
   ]
  },
  {
   "attachments": {},
   "cell_type": "markdown",
   "metadata": {},
   "source": [
    "Methods can also alter instance variables, imagine a `Quark` class that has an instance varaible called `flavor`. Quarks and leptons have falvors, and the \"Weak interaction\" can alter that flavor, but symmetry must be preserved. So in some quantum superposition interactions, a flavor can flip, but only to its complementary flavor. A method on the `Quark` class could flip the flavor. That `flip()` method would be defined to reset the `flavor` variable from `up` to `down`, `top` to `bottom`, or `charm` to `strange` ."
   ]
  },
  {
   "cell_type": "code",
   "execution_count": null,
   "metadata": {},
   "outputs": [],
   "source": [
    "class Quark(object):\n",
    "\n",
    "    def flip(self):\n",
    "        if self.flavor == \"up\":\n",
    "            self.flavor = \"down\"\n",
    "        elif self.flavor == \"down\":\n",
    "            self.flavor = \"up\"\n",
    "        elif self.flavor == \"top\":\n",
    "            self.flavor = \"bottom\" \n",
    "        elif self.flavor == \"bottom\":\n",
    "            self.flavor = \"top\"\n",
    "        elif self.flavor == \"strange\":\n",
    "            self.flavor = \"charm\"\n",
    "        elif self.flavor == \"charm\":\n",
    "            self.flavor = \"strange\"\n",
    "        else :\n",
    "            raise AttributeError(\"The quark cannot be flipped, because the \"\n",
    "                                \"flavor is not valid.\")\n"
   ]
  },
  {
   "cell_type": "code",
   "execution_count": null,
   "metadata": {},
   "outputs": [
    {
     "name": "stdout",
     "output_type": "stream",
     "text": [
      "bottom\n"
     ]
    }
   ],
   "source": [
    "# import the class\n",
    "from quark import Quark\n",
    "# create a Quark object\n",
    "t = Quark()\n",
    "# set the flavor\n",
    "t.flavor = \"top\"\n",
    "# flip the flavor\n",
    "t.flip()\n",
    "# print the flavor\n",
    "print(t.flavor)"
   ]
  },
  {
   "attachments": {},
   "cell_type": "markdown",
   "metadata": {},
   "source": [
    "Because they can access attributes of an object, methods are powerful functions. \n",
    "- with object orientation we can for example show relationship between uncertainty in momentum and uncertainty in position:\n",
    "\n",
    " $$\\Delta x \\Delta p_x \\ge \\frac{\\hbar}{2}$$\n",
    "\n",
    " Method that returns minimum possible value of $\\Delta x$ can be added to class definition of `Particle`: "
   ]
  },
  {
   "cell_type": "code",
   "execution_count": null,
   "metadata": {},
   "outputs": [],
   "source": [
    "from scipy import constants\n",
    "class Particle(object):\n",
    "    \"\"\"A particle is a constituent unit of the universe.\"\"\"\n",
    "    # ... other parts of the class definition ...\n",
    "    def delta_x_min(self, delta_p_x):\n",
    "        hbar = constants.hbar\n",
    "        delx_min = hbar / (2.0 * delta_p_x)\n",
    "        return delx_min"
   ]
  },
  {
   "attachments": {},
   "cell_type": "markdown",
   "metadata": {},
   "source": [
    "### Static Methods\n",
    "- for the `Quark` class, a feature could be a fn that lists all possible values of the quark flavor. Irrespective of the falvor of a specific instance, the possible values are static. Suck fn would be:\n"
   ]
  },
  {
   "cell_type": "code",
   "execution_count": null,
   "metadata": {},
   "outputs": [],
   "source": [
    "def possible_flavors():\n",
    "   return [\"up\", \"down\", \"top\", \"bottom\", \"strange\", \"charm\"]"
   ]
  },
  {
   "attachments": {},
   "cell_type": "markdown",
   "metadata": {},
   "source": [
    "Now, suppose that you wanted to have a method that was associated with a class, but\n",
    "whose behavior did not change with the instance.\n",
    "\n",
    "Python has built-in decorator `@staticmethod` that allows for there to be a method on the class that is never bound to any object.\n",
    "\n",
    "Becayse ut us bever biybd ti ab ibhectm a statuc nethid dies bit taje ab unokucut `self` argument. However, since it lives on class, you can still access it from all instances"
   ]
  },
  {
   "attachments": {},
   "cell_type": "markdown",
   "metadata": {},
   "source": [
    "### Duck Typing\n",
    "- checking at runtime whether or not an object quacks when it is asked to quack\n",
    "- if an object instead asked to swim, python will check if it can swim\n",
    "- python does not explicitly check for object types in the way that other programming languages do\n",
    "- python neither requires varaible types to be declared upon instantiation nor guarantees the types of varaibles passed into functions as parameters\n",
    "- object behavior, but not object type is checked when a method is called or an attribute is accessed and not before\n",
    "- python only performs duck-type checking, if two different object types implement indentical interfaces, then they can be treated identically within a python program\n"
   ]
  },
  {
   "attachments": {},
   "cell_type": "markdown",
   "metadata": {},
   "source": [
    "All particles with a valid `charge()` method, for example, can be used identically. \n",
    "- can implement a fn such as the following, calculating the total charge of a collection of particles, without knowing any information about the types of those particles:\n"
   ]
  },
  {
   "cell_type": "code",
   "execution_count": null,
   "metadata": {},
   "outputs": [],
   "source": [
    "def total_charge(particles):\n",
    "    tot = 0\n",
    "    for p in particles:\n",
    "        tot += p.c\n",
    "    return tot"
   ]
  },
  {
   "attachments": {},
   "cell_type": "markdown",
   "metadata": {},
   "source": [
    "IF the fn is parametrized with acollection of `Quarks, Protons and Electrons` it will sum the charges iresspective of the particle type"
   ]
  },
  {
   "cell_type": "code",
   "execution_count": null,
   "metadata": {},
   "outputs": [
    {
     "ename": "NameError",
     "evalue": "name 'Proton' is not defined",
     "output_type": "error",
     "traceback": [
      "\u001b[0;31m---------------------------------------------------------------------------\u001b[0m",
      "\u001b[0;31mNameError\u001b[0m                                 Traceback (most recent call last)",
      "Cell \u001b[0;32mIn[23], line 1\u001b[0m\n\u001b[0;32m----> 1\u001b[0m p \u001b[39m=\u001b[39m Proton()\n\u001b[1;32m      2\u001b[0m e1 \u001b[39m=\u001b[39m Electron()\n\u001b[1;32m      3\u001b[0m e2 \u001b[39m=\u001b[39m Elctron()\n",
      "\u001b[0;31mNameError\u001b[0m: name 'Proton' is not defined"
     ]
    }
   ],
   "source": [
    "p = Proton()\n",
    "e1 = Electron()\n",
    "e2 = Elctron()\n",
    "particles = [p1, e1, e2]\n",
    "total_charge(particles)"
   ]
  },
  {
   "attachments": {},
   "cell_type": "markdown",
   "metadata": {},
   "source": [
    "- explicit typing is sometimes helpful\n",
    "for example the letter `c` is ambiguous since it can slip into a collection that possesses a method `c` with a different meaning.\n",
    "\n",
    "the developer could choose to ignore any object that are not `Particles`: "
   ]
  },
  {
   "cell_type": "code",
   "execution_count": null,
   "metadata": {},
   "outputs": [],
   "source": [
    "def total_charge(collection):\n",
    "    tot = 0\n",
    "    for p in collection:\n",
    "        if isinstance(p, Particle):\n",
    "            tot += p.c\n",
    "    return tot"
   ]
  },
  {
   "attachments": {},
   "cell_type": "markdown",
   "metadata": {},
   "source": [
    "In this way, duck typing can be overruled when it is inconvenient.\n",
    "\n",
    "### Polymorphism\n",
    "- in bio, refers to existence of more than one distinct phenotype within a single species\n",
    "- in obj-ori computation, refers to when a class inherits the attributes of a parent class\n",
    "\n",
    "A quark, for example, should behave like any other elementary particle in many ways. Like other elementary particles, a quark has no distinct constituent particles. Additionally, elementary particles have a type of intrinsic angular momentum called *spin* . Based on that spin, they are either fermions or bosons. Given all of this and making use of Python's modulo syntax, we might describe the `ElementaryParticle` class thus:\n"
   ]
  },
  {
   "cell_type": "code",
   "execution_count": null,
   "metadata": {},
   "outputs": [],
   "source": [
    "# elementary.py\n",
    "class ElementaryParticle(Particle):\n",
    "    def __init__(self, spin):\n",
    "    self.s = spin\n",
    "    self.is_fermion = bool(spin % 1.0)\n",
    "    self.is_boson = not self.is_fermion"
   ]
  },
  {
   "attachments": {},
   "cell_type": "markdown",
   "metadata": {},
   "source": [
    "`ElementaryParticle` class accepts the `Particle` class instead of `object` . This in order to denote that the `ElementaryParticle` class is a subclass of the `Particle` class. This is called inheritance because the `ElementaryParticle` class inherits data and behaviors from the `Particle` class.\n",
    "\n",
    "Distinct from `ElementaryParticles` , `CompositeParticles` exists. These are particles such as protons and neutrons. They are composed of elementary particles, but do not share their attributes. The only attributes they share with `ElementaryParticles` are captured in the parent `Particle` class. `CompositeParticles` have all the qualities (charge, mass, position) of the `Particle` class, and one extra, a list of constituent particles:\n",
    "\n",
    "\n",
    "\n"
   ]
  },
  {
   "cell_type": "code",
   "execution_count": null,
   "metadata": {},
   "outputs": [],
   "source": [
    "# composite.py\n",
    "class CompositeParticle(Particle):\n",
    "    def __init__(self, parts):\n",
    "    self.constituents = parts"
   ]
  },
  {
   "attachments": {},
   "cell_type": "markdown",
   "metadata": {},
   "source": [
    "As a simulator or other physics software becomes more detailed, additional classes like `ElementaryParticle` and `CompositeParticle` can be created in order to capture more detailed resoluton of `Particle` types. Additionally, since attributes vary depending on the type of particle, these classes may need to represent the various subtypes of particles as well\n",
    "\n",
    "### Subclasses\n",
    "- because they inherit from the `Particle` class, `ElementaryParticle` objects and `CompositeParticle` objects *are* `Particle` objects\n",
    "- therefore, an `ElementaryParticle` has all the functions and data were assigned in the `Particle`  class, and none of the code needs to be rewritten\n",
    "- now the `ElementaryParticle` class can override that data and those behaviors if desired.\n",
    "- for ex: the `ElementaryParticle` class inherits the `hear_me()` fn from the `Particle` class, however it can override the `roar` string in order to change its behavior"
   ]
  },
  {
   "cell_type": "code",
   "execution_count": 3,
   "metadata": {},
   "outputs": [],
   "source": [
    "#elementary.py\n",
    "class ElementaryParticle(Particle):\n",
    "    roar = \"I am an Elementary PArticle~!\"\n",
    "    def __init__(self, spin):\n",
    "        self.s = spin\n",
    "        self.is_fermion = bool(spin % 1.0)\n",
    "        self.is_boson = not self.is_fermion\n"
   ]
  },
  {
   "cell_type": "code",
   "execution_count": 8,
   "metadata": {},
   "outputs": [
    {
     "ename": "AttributeError",
     "evalue": "'ElementaryParticle' object has no attribute 'c'",
     "output_type": "error",
     "traceback": [
      "\u001b[0;31m---------------------------------------------------------------------------\u001b[0m",
      "\u001b[0;31mAttributeError\u001b[0m                            Traceback (most recent call last)",
      "Cell \u001b[0;32mIn[8], line 6\u001b[0m\n\u001b[1;32m      4\u001b[0m p \u001b[39m=\u001b[39m ElementaryParticle(spin)\n\u001b[1;32m      5\u001b[0m p\u001b[39m.\u001b[39ms \n\u001b[0;32m----> 6\u001b[0m p\u001b[39m.\u001b[39;49mhear_me()\n",
      "File \u001b[0;32m~/Python/Effective Computation Physics/particle_book.py:31\u001b[0m, in \u001b[0;36mParticle.hear_me\u001b[0;34m(self)\u001b[0m\n\u001b[1;32m     29\u001b[0m \u001b[39mdef\u001b[39;00m \u001b[39mhear_me\u001b[39m(\u001b[39mself\u001b[39m):\n\u001b[1;32m     30\u001b[0m     myroar \u001b[39m=\u001b[39m \u001b[39mself\u001b[39m\u001b[39m.\u001b[39mroar \u001b[39m+\u001b[39m (\n\u001b[0;32m---> 31\u001b[0m         \u001b[39m\"\u001b[39m\u001b[39m\\n\u001b[39;00m\u001b[39m My charge is:      \u001b[39m\u001b[39m\"\u001b[39m \u001b[39m+\u001b[39m \u001b[39mstr\u001b[39m(\u001b[39mself\u001b[39;49m\u001b[39m.\u001b[39;49mc) \u001b[39m+\u001b[39m\n\u001b[1;32m     32\u001b[0m         \u001b[39m\"\u001b[39m\u001b[39m\\n\u001b[39;00m\u001b[39m My mass is:        \u001b[39m\u001b[39m\"\u001b[39m \u001b[39m+\u001b[39m \u001b[39mstr\u001b[39m(\u001b[39mself\u001b[39m\u001b[39m.\u001b[39mm) \u001b[39m+\u001b[39m\n\u001b[1;32m     33\u001b[0m         \u001b[39m\"\u001b[39m\u001b[39m\\n\u001b[39;00m\u001b[39m My x position is:  \u001b[39m\u001b[39m\"\u001b[39m \u001b[39m+\u001b[39m \u001b[39mstr\u001b[39m(\u001b[39mself\u001b[39m\u001b[39m.\u001b[39mr[\u001b[39m'\u001b[39m\u001b[39mx\u001b[39m\u001b[39m'\u001b[39m]) \u001b[39m+\u001b[39m \n\u001b[1;32m     34\u001b[0m         \u001b[39m\"\u001b[39m\u001b[39m\\n\u001b[39;00m\u001b[39m My y position is:  \u001b[39m\u001b[39m\"\u001b[39m \u001b[39m+\u001b[39m \u001b[39mstr\u001b[39m(\u001b[39mself\u001b[39m\u001b[39m.\u001b[39mr[\u001b[39m'\u001b[39m\u001b[39my\u001b[39m\u001b[39m'\u001b[39m]) \u001b[39m+\u001b[39m \n\u001b[1;32m     35\u001b[0m         \u001b[39m\"\u001b[39m\u001b[39m\\n\u001b[39;00m\u001b[39m My z position is:  \u001b[39m\u001b[39m\"\u001b[39m \u001b[39m+\u001b[39m \u001b[39mstr\u001b[39m(\u001b[39mself\u001b[39m\u001b[39m.\u001b[39mr[\u001b[39m'\u001b[39m\u001b[39mz\u001b[39m\u001b[39m'\u001b[39m])\n\u001b[1;32m     36\u001b[0m     )\n\u001b[1;32m     37\u001b[0m     \u001b[39mprint\u001b[39m(myroar)\n",
      "\u001b[0;31mAttributeError\u001b[0m: 'ElementaryParticle' object has no attribute 'c'"
     ]
    }
   ],
   "source": [
    "from elementary import ElementaryParticle\n",
    "\n",
    "spin = 1.5\n",
    "p = ElementaryParticle(spin)\n",
    "p.s \n",
    "p.hear_me()"
   ]
  },
  {
   "cell_type": "code",
   "execution_count": null,
   "metadata": {},
   "outputs": [],
   "source": []
  },
  {
   "attachments": {},
   "cell_type": "markdown",
   "metadata": {},
   "source": [
    "### SuperClasses\n",
    "\n",
    "- in our examples, `Particle` is a superclass and `ElementaryParticle` is a subclass\n",
    "- `ElementaryParticle` can be a superclass of `Quark` class\n",
    "- `Quarks` also ahve flavor and flavor of quark can take 6 values:"
   ]
  },
  {
   "cell_type": "code",
   "execution_count": 10,
   "metadata": {},
   "outputs": [],
   "source": [
    "import randphys as rp\n",
    "class Quark(ElementaryParticle):\n",
    "    def __init__(self):\n",
    "        phys = rp.RandomPhysics()\n",
    "        self.color = phys.color()\n",
    "        self.charge = phys.charge()\n",
    "        self.color_charge = phys.color_charge()\n",
    "        self.spin = phys.spin()\n",
    "        self.flavor = phys.flavor()"
   ]
  },
  {
   "attachments": {},
   "cell_type": "markdown",
   "metadata": {},
   "source": [
    "A class is called polymorphic if it has more than one subclass:\n",
    "\n",
    "### Multiple inheritance\n",
    "- when a subclass inherits from more than one superclass\n",
    "- example of a particle possessing wave-like attributes and particle behavior:\n"
   ]
  },
  {
   "cell_type": "code",
   "execution_count": 14,
   "metadata": {},
   "outputs": [
    {
     "name": "stdout",
     "output_type": "stream",
     "text": [
      "ok\n"
     ]
    }
   ],
   "source": [
    "# elementary.py\n",
    "class Wave:\n",
    "    print(\"ok\")\n",
    "class ElementaryParticle(Wave, Particle):\n",
    "    def __init__(self, spin):\n",
    "        self.s = spin\n",
    "        self.is_fermion = bool(spin % 1.0)\n",
    "        self.is_boson = not self.is_fermion"
   ]
  },
  {
   "attachments": {},
   "cell_type": "markdown",
   "metadata": {},
   "source": [
    "### Decorators and Metaclasses\n",
    "\n",
    "- *Metaprogramming* is when the definition of a class (or fn) is specified in part or in full, by code outside of the class definition itself\n",
    "\n",
    "- metaprogramming rare in physics-based programming, but useful for *analysis frameworks* \n",
    "- handled by class decorators; `@<decorator>` above the class definition\n",
    "- inside class decorator, can add atrributes or methods \n",
    "\n",
    "\n"
   ]
  },
  {
   "cell_type": "code",
   "execution_count": 15,
   "metadata": {},
   "outputs": [],
   "source": [
    "def add_is_particle(cls):\n",
    "    cls.is_particle = True\n",
    "    return cls\n",
    "@add_is_particle\n",
    "class Particle(object):\n",
    "    \"\"\"A particle is a constituent unit of the universe.\"\"\"\n",
    "    # ... other parts of the class definition ...\n",
    "\n",
    "\n"
   ]
  },
  {
   "attachments": {},
   "cell_type": "markdown",
   "metadata": {},
   "source": [
    "Can also add methods to class in the decorator or removing tem"
   ]
  },
  {
   "cell_type": "code",
   "execution_count": null,
   "metadata": {},
   "outputs": [],
   "source": [
    "from math import sqrt\n",
    "def add_distance(cls):\n",
    "    def distance(self, other):\n",
    "        d2 = 0.0\n",
    "        for axis in ['x', 'y', 'z']:\n",
    "            d2 += (self.r[axis] - other.r[axis])**2\n",
    "        d = sqrt(d2)\n",
    "        return d\n",
    "    cls.distance = distance\n",
    "    return cls\n",
    "@add_distance\n",
    "class Particle(object):\n",
    "    \"\"\"A particle is a constituent unit of the universe.\"\"\"\n",
    "    # ... other parts of the class definition ...\n",
    "\n",
    "\n"
   ]
  }
 ],
 "metadata": {
  "kernelspec": {
   "display_name": "Python 3 (ipykernel)",
   "language": "python",
   "name": "python3"
  },
  "language_info": {
   "codemirror_mode": {
    "name": "ipython",
    "version": 3
   },
   "file_extension": ".py",
   "mimetype": "text/x-python",
   "name": "python",
   "nbconvert_exporter": "python",
   "pygments_lexer": "ipython3",
   "version": "3.10.10"
  },
  "orig_nbformat": 4
 },
 "nbformat": 4,
 "nbformat_minor": 2
}

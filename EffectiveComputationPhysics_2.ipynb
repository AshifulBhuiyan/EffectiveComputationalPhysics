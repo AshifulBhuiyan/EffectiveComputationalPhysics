{
 "cells": [
  {
   "cell_type": "markdown",
   "id": "712bc236",
   "metadata": {},
   "source": [
    "### StringConcatenation"
   ]
  },
  {
   "cell_type": "code",
   "execution_count": 1,
   "id": "12577096",
   "metadata": {},
   "outputs": [
    {
     "data": {
      "text/plain": [
       "'kilometer'"
      ]
     },
     "execution_count": 1,
     "metadata": {},
     "output_type": "execute_result"
    }
   ],
   "source": [
    "\"kilo\" + \"meter\""
   ]
  },
  {
   "cell_type": "code",
   "execution_count": 2,
   "id": "088d3431",
   "metadata": {},
   "outputs": [
    {
     "data": {
      "text/plain": [
       "'x^2'"
      ]
     },
     "execution_count": 2,
     "metadata": {},
     "output_type": "execute_result"
    }
   ],
   "source": [
    "\"x^\"+ str(2)"
   ]
  },
  {
   "cell_type": "code",
   "execution_count": 3,
   "id": "1b09ee8c",
   "metadata": {},
   "outputs": [
    {
     "data": {
      "text/plain": [
       "'newtonewtonewtonewtonewtonewtonewtonewtonewtonewto'"
      ]
     },
     "execution_count": 3,
     "metadata": {},
     "output_type": "execute_result"
    }
   ],
   "source": [
    "\"newto\" * 10"
   ]
  },
  {
   "cell_type": "code",
   "execution_count": 4,
   "id": "b4421bbb",
   "metadata": {},
   "outputs": [
    {
     "data": {
      "text/plain": [
       "'H + H -> H2'"
      ]
     },
     "execution_count": 4,
     "metadata": {},
     "output_type": "execute_result"
    }
   ],
   "source": [
    "\"H + H \" \"-> H2\""
   ]
  },
  {
   "cell_type": "code",
   "execution_count": 7,
   "id": "c6a85e33",
   "metadata": {},
   "outputs": [
    {
     "name": "stdout",
     "output_type": "stream",
     "text": [
      "escae!\\n\n"
     ]
    }
   ],
   "source": [
    "print(r\"escae!\\n\")"
   ]
  },
  {
   "cell_type": "code",
   "execution_count": 10,
   "id": "ab188859",
   "metadata": {},
   "outputs": [
    {
     "name": "stdout",
     "output_type": "stream",
     "text": [
      "b'this bytes'\n"
     ]
    }
   ],
   "source": [
    "print(b\"this bytes\")"
   ]
  },
  {
   "cell_type": "markdown",
   "id": "3a42d398",
   "metadata": {},
   "source": [
    "The `strip()` method is useful for normalizing text-based data. Removes leading and trailing whitespace, while preserving internal whitespace."
   ]
  },
  {
   "cell_type": "code",
   "execution_count": 11,
   "id": "90a1f410",
   "metadata": {},
   "outputs": [
    {
     "data": {
      "text/plain": [
       "'Hilbert gets intro work blah then his commute begins!'"
      ]
     },
     "execution_count": 11,
     "metadata": {},
     "output_type": "execute_result"
    }
   ],
   "source": [
    "\"{0} gets intro work blah then his {1} begins!\".format(\"Hilbert\", \"commute\")"
   ]
  },
  {
   "cell_type": "code",
   "execution_count": 12,
   "id": "6ce495bc",
   "metadata": {},
   "outputs": [
    {
     "data": {
      "text/plain": [
       "'x=42 y=65'"
      ]
     },
     "execution_count": 12,
     "metadata": {},
     "output_type": "execute_result"
    }
   ],
   "source": [
    "x=42\n",
    "y=65\n",
    "\"x={0} y={1}\".format(x,y) #allows convert data strings without excess type conversion ad concatenation"
   ]
  },
  {
   "cell_type": "code",
   "execution_count": 19,
   "id": "2c931a83",
   "metadata": {},
   "outputs": [],
   "source": [
    "import constants as k"
   ]
  },
  {
   "cell_type": "code",
   "execution_count": 20,
   "id": "b6e2bf81",
   "metadata": {},
   "outputs": [
    {
     "data": {
      "text/plain": [
       "1.0537173373992152e-34"
      ]
     },
     "execution_count": 20,
     "metadata": {},
     "output_type": "execute_result"
    }
   ],
   "source": [
    "two_pi = 2*k.pi\n",
    "h_bar = k.h/two_pi\n",
    "h_bar"
   ]
  },
  {
   "cell_type": "code",
   "execution_count": null,
   "id": "f10a02fb",
   "metadata": {},
   "outputs": [],
   "source": []
  }
 ],
 "metadata": {
  "kernelspec": {
   "display_name": "Python 3 (ipykernel)",
   "language": "python",
   "name": "python3"
  },
  "language_info": {
   "codemirror_mode": {
    "name": "ipython",
    "version": 3
   },
   "file_extension": ".py",
   "mimetype": "text/x-python",
   "name": "python",
   "nbconvert_exporter": "python",
   "pygments_lexer": "ipython3",
   "version": "3.9.16"
  }
 },
 "nbformat": 4,
 "nbformat_minor": 5
}

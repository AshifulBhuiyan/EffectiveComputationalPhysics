{
 "cells": [
  {
   "cell_type": "markdown",
   "id": "e44f47fe",
   "metadata": {},
   "source": [
    "### File inspection (head and tail)\n",
    "- head prints first 10 lines of given file\n",
    "- tail prints last 10\n",
    "\n",
    "### Manipulating Files and Directories\n",
    "- Source code written in plain-text files, depending on conventions have different file extentions\n",
    "- touch: creates empty text file\n",
    "- cat and >, add text to a file without leaving terminal\n",
    "- cat prints full contents of file \n",
    "- > redirects cat output into whatever file follows it\n",
    "cat reactor.txt > reactor_Copy.txt\n",
    "\n",
    "### copying and renaming\n",
    "cp, mv\n",
    "- can rename using mv, mv 1.txt 2.txt (and move to another directory wiht new name too)\n",
    "\n",
    "\n",
    "\n",
    "### Combining UTILITIES with redirection and Pipes (>, >> and | ) \n",
    "To send the output of a command into afile, rather than printing it to the screen as usual, redirection is needed. One arrow (>) will create a new file or overwrite the contents of an existing one with the stream provided by lefthand side. However two arrows (>>) will append the stream to the end of an existing file, rather than overwritting it.\n",
    "\n",
    "To chain programs together the pipe (|) is used. The output of one program is used as the input of another\n",
    "\n",
    "### Creating links (ln)\n",
    "ln -s\n",
    "\n",
    "### Environment\n",
    "echo prints arguments to the terminal\n",
    "echo \"Hello World\"\n",
    "echo $USERNAME\n",
    "echo $PWD\n",
    "\n",
    "Shell variables are with their values when excuted, in bash can create your own varaibles and change existing variables using export command\n",
    "\n",
    "export GraceHopper=\"AMazing Grace\"\n"
   ]
  }
 ],
 "metadata": {
  "kernelspec": {
   "display_name": "Python 3 (ipykernel)",
   "language": "python",
   "name": "python3"
  },
  "language_info": {
   "codemirror_mode": {
    "name": "ipython",
    "version": 3
   },
   "file_extension": ".py",
   "mimetype": "text/x-python",
   "name": "python",
   "nbconvert_exporter": "python",
   "pygments_lexer": "ipython3",
   "version": "3.9.16"
  }
 },
 "nbformat": 4,
 "nbformat_minor": 5
}

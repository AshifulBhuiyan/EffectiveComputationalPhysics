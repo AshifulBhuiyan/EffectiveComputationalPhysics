{
 "cells": [
  {
   "cell_type": "markdown",
   "id": "99a893ac",
   "metadata": {},
   "source": [
    "# Flow Control and Logic\n",
    "- *Flow control* is a high-level way of programming a computer to make decisions.\n",
    "\n",
    "### Conditionals\n",
    "- simplest form of flow control\n",
    "- if x is true, then do y; otherwisse, do z\n",
    "\n",
    "    ` if <condition>:\n",
    "    \n",
    "            <if-block>\n",
    "            \n",
    "      elif <condition>:\n",
    "      \n",
    "            <elif-block> \n",
    "            \n",
    "      else:\n",
    "      \n",
    "            <else-block>  `\n",
    "- Python is *whitespace separated*\n",
    "\n",
    "### Exceptions\n",
    "The syntax for handling exceptions is known as a `try-except` block, similar to `if-else` but without condition:\n",
    "\n",
    "    `try:\n",
    "        <try-block>\n",
    "     except:\n",
    "        <except-block>`\n",
    "  \n",
    "  "
   ]
  },
  {
   "cell_type": "code",
   "execution_count": 1,
   "id": "7e4e34fa",
   "metadata": {},
   "outputs": [
    {
     "ename": "ZeroDivisionError",
     "evalue": "float division by zero",
     "output_type": "error",
     "traceback": [
      "\u001b[0;31m---------------------------------------------------------------------------\u001b[0m",
      "\u001b[0;31mZeroDivisionError\u001b[0m                         Traceback (most recent call last)",
      "Cell \u001b[0;32mIn[1], line 2\u001b[0m\n\u001b[1;32m      1\u001b[0m val\u001b[38;5;241m=\u001b[39m\u001b[38;5;241m0.0\u001b[39m\n\u001b[0;32m----> 2\u001b[0m \u001b[38;5;241;43m1.0\u001b[39;49m\u001b[38;5;241;43m/\u001b[39;49m\u001b[43mval\u001b[49m\n",
      "\u001b[0;31mZeroDivisionError\u001b[0m: float division by zero"
     ]
    }
   ],
   "source": [
    "val=0.0\n",
    "1.0/val"
   ]
  },
  {
   "cell_type": "code",
   "execution_count": 6,
   "id": "7e4951ee",
   "metadata": {},
   "outputs": [
    {
     "name": "stdout",
     "output_type": "stream",
     "text": [
      "a bad value 0.0\n"
     ]
    }
   ],
   "source": [
    "try:\n",
    "    inv = 1.0 / val\n",
    "except:\n",
    "    print(\"a bad value {0}\".format(val))"
   ]
  },
  {
   "cell_type": "code",
   "execution_count": 7,
   "id": "608c9e4f",
   "metadata": {},
   "outputs": [
    {
     "name": "stdout",
     "output_type": "stream",
     "text": [
      "no divide 0 pls\n"
     ]
    }
   ],
   "source": [
    "try:\n",
    "    inv = 1.0 / val\n",
    "except ZeroDivisionError:\n",
    "    print(\"no divide 0 pls\")\n",
    "except:\n",
    "    print(\"a bad value {0}\".format(val))"
   ]
  },
  {
   "cell_type": "markdown",
   "id": "1586853c",
   "metadata": {},
   "source": [
    "### while Loops\n",
    "    `while condition: \n",
    "        <while-block>`"
   ]
  },
  {
   "cell_type": "code",
   "execution_count": 11,
   "id": "66457a1f",
   "metadata": {},
   "outputs": [
    {
     "data": {
      "text/plain": [
       "[1, 1, 2, 3, 5, 8, 13, 21, 34, 55, 89]"
      ]
     },
     "execution_count": 11,
     "metadata": {},
     "output_type": "execute_result"
    }
   ],
   "source": [
    "fib = [1,1]\n",
    "while True:\n",
    "    x=fib[-2]+fib[-1]\n",
    "    if x%12 ==0:\n",
    "        break\n",
    "    fib.append(x)\n",
    "fib"
   ]
  },
  {
   "cell_type": "markdown",
   "id": "f755f7a6",
   "metadata": {},
   "source": [
    "### for Loops\n",
    "    `f0r <loop-var> in <iterable>:\n",
    "        <for-block>`\n",
    "       \n",
    " "
   ]
  },
  {
   "cell_type": "code",
   "execution_count": null,
   "id": "73a0fba8",
   "metadata": {},
   "outputs": [],
   "source": []
  }
 ],
 "metadata": {
  "kernelspec": {
   "display_name": "Python 3 (ipykernel)",
   "language": "python",
   "name": "python3"
  },
  "language_info": {
   "codemirror_mode": {
    "name": "ipython",
    "version": 3
   },
   "file_extension": ".py",
   "mimetype": "text/x-python",
   "name": "python",
   "nbconvert_exporter": "python",
   "pygments_lexer": "ipython3",
   "version": "3.9.16"
  }
 },
 "nbformat": 4,
 "nbformat_minor": 5
}

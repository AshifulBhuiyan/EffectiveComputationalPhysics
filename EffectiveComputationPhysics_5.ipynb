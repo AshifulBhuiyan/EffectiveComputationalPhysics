{
 "cells": [
  {
   "cell_type": "markdown",
   "id": "115dabcb",
   "metadata": {},
   "source": [
    "# Operating with Functions\n",
    "    `def <name>(args):\n",
    "        \"\"\"<docstring>\"\"\"\n",
    "        <body>`\n",
    "        \n"
   ]
  },
  {
   "cell_type": "code",
   "execution_count": 1,
   "id": "41f9eed0",
   "metadata": {},
   "outputs": [],
   "source": [
    "def power(base, x):\n",
    "    return base**x"
   ]
  },
  {
   "cell_type": "code",
   "execution_count": 2,
   "id": "402609fb",
   "metadata": {},
   "outputs": [
    {
     "data": {
      "text/plain": [
       "25"
      ]
     },
     "execution_count": 2,
     "metadata": {},
     "output_type": "execute_result"
    }
   ],
   "source": [
    "power(5,2)"
   ]
  },
  {
   "cell_type": "code",
   "execution_count": 3,
   "id": "ac1c7738",
   "metadata": {},
   "outputs": [],
   "source": [
    "from math import sin\n",
    "def sin_inv_x(x):\n",
    "    if x==0.0:\n",
    "        result = 0.0\n",
    "    else:\n",
    "        result = sin(1.0/x)\n",
    "    return result\n",
    "    "
   ]
  },
  {
   "cell_type": "code",
   "execution_count": 5,
   "id": "01865c93",
   "metadata": {},
   "outputs": [
    {
     "data": {
      "text/plain": [
       "0.0"
      ]
     },
     "execution_count": 5,
     "metadata": {},
     "output_type": "execute_result"
    }
   ],
   "source": [
    "sin_inv_x(0)"
   ]
  },
  {
   "cell_type": "code",
   "execution_count": 6,
   "id": "c3deffff",
   "metadata": {},
   "outputs": [],
   "source": [
    "def line(x, a=1, b=0):\n",
    "    return a*x+b"
   ]
  },
  {
   "cell_type": "code",
   "execution_count": 7,
   "id": "a41b0880",
   "metadata": {},
   "outputs": [
    {
     "data": {
      "text/plain": [
       "42"
      ]
     },
     "execution_count": 7,
     "metadata": {},
     "output_type": "execute_result"
    }
   ],
   "source": [
    "line(42)"
   ]
  },
  {
   "cell_type": "code",
   "execution_count": 8,
   "id": "9385bb50",
   "metadata": {},
   "outputs": [
    {
     "data": {
      "text/plain": [
       "84"
      ]
     },
     "execution_count": 8,
     "metadata": {},
     "output_type": "execute_result"
    }
   ],
   "source": [
    "line(42,2)"
   ]
  },
  {
   "cell_type": "code",
   "execution_count": 9,
   "id": "e4aed847",
   "metadata": {},
   "outputs": [
    {
     "data": {
      "text/plain": [
       "86"
      ]
     },
     "execution_count": 9,
     "metadata": {},
     "output_type": "execute_result"
    }
   ],
   "source": [
    "line(42,2,2)"
   ]
  },
  {
   "cell_type": "markdown",
   "id": "098f8d6c",
   "metadata": {},
   "source": [
    "### Scope\n",
    "- all functions share the notion that variables defined inside of a fn have lifetimes that end when the fn returns\n",
    "    - local scope\n",
    "- variables defined outside the fn have global scope with respect to fn at hand "
   ]
  },
  {
   "cell_type": "code",
   "execution_count": 10,
   "id": "dc683d50",
   "metadata": {},
   "outputs": [
    {
     "data": {
      "text/plain": [
       "232"
      ]
     },
     "execution_count": 10,
     "metadata": {},
     "output_type": "execute_result"
    }
   ],
   "source": [
    "#global scope\n",
    "a=6\n",
    "b=42\n",
    "\n",
    "def func(x,y):\n",
    "    z=16\n",
    "    return a*x+b*y+z\n",
    "#global scope\n",
    "c=func(1,5)\n",
    "c"
   ]
  },
  {
   "cell_type": "markdown",
   "id": "eb03b989",
   "metadata": {},
   "source": [
    "### Recursion"
   ]
  },
  {
   "cell_type": "code",
   "execution_count": 1,
   "id": "b4bb2974",
   "metadata": {},
   "outputs": [],
   "source": [
    "def fib(n):\n",
    "    if n==0 or n==1:\n",
    "        return n\n",
    "    else:\n",
    "        return fib(n-1)+fib(n-2)"
   ]
  },
  {
   "cell_type": "code",
   "execution_count": 21,
   "id": "42d1bc1d",
   "metadata": {},
   "outputs": [
    {
     "data": {
      "text/plain": [
       "2178309"
      ]
     },
     "execution_count": 21,
     "metadata": {},
     "output_type": "execute_result"
    }
   ],
   "source": [
    "fib(32)"
   ]
  },
  {
   "cell_type": "markdown",
   "id": "8afae5ea",
   "metadata": {},
   "source": [
    "Fixed points (x==f(x)) are important so functions dont recurse and execute forever"
   ]
  },
  {
   "cell_type": "markdown",
   "id": "92bf1366",
   "metadata": {},
   "source": [
    "\n",
    "### Lambdas\n",
    "- single line functions (also called anonfunc)\n",
    "- must only compute a single expression because statements not allowed and cnt assing local variables\n",
    "\n",
    "`lambda <arg>: <expr>`"
   ]
  },
  {
   "cell_type": "code",
   "execution_count": 7,
   "id": "a05abb5e",
   "metadata": {},
   "outputs": [
    {
     "data": {
      "text/plain": [
       "81"
      ]
     },
     "execution_count": 7,
     "metadata": {},
     "output_type": "execute_result"
    }
   ],
   "source": [
    "# a simple lambda\n",
    "y=lambda x:x**2\n",
    "y(9)"
   ]
  },
  {
   "cell_type": "code",
   "execution_count": 8,
   "id": "e0022bba",
   "metadata": {},
   "outputs": [
    {
     "data": {
      "text/plain": [
       "94"
      ]
     },
     "execution_count": 8,
     "metadata": {},
     "output_type": "execute_result"
    }
   ],
   "source": [
    "(lambda x, y=10: 2*x +y)(42)"
   ]
  },
  {
   "cell_type": "code",
   "execution_count": 9,
   "id": "10b9f398",
   "metadata": {},
   "outputs": [
    {
     "data": {
      "text/plain": [
       "[0, 1, 4, 9, 16, 25, 36, 49, 64, 81]"
      ]
     },
     "execution_count": 9,
     "metadata": {},
     "output_type": "execute_result"
    }
   ],
   "source": [
    "f = lambda: [x**2 for x in range(10)]\n",
    "f()"
   ]
  },
  {
   "cell_type": "code",
   "execution_count": 11,
   "id": "b50907a0",
   "metadata": {},
   "outputs": [],
   "source": [
    "d = {'null': lambda *args, **kwargs: None} # a lambda as a dict value"
   ]
  },
  {
   "cell_type": "code",
   "execution_count": 12,
   "id": "b3b14a53",
   "metadata": {},
   "outputs": [],
   "source": [
    "# a lambda as a keyboard argument f in another fn\n",
    "def func(vals, f=lambda x:sum(x)/len(x)):\n",
    "    f(vals)"
   ]
  },
  {
   "cell_type": "code",
   "execution_count": 17,
   "id": "bceab465",
   "metadata": {},
   "outputs": [],
   "source": [
    "func([6, 28, 496, 8128], lambda data: sum([x**2 for x in data]))"
   ]
  },
  {
   "cell_type": "markdown",
   "id": "b8ce7b25",
   "metadata": {},
   "source": [
    "Common use for lambadas is when sorting a lit or container, python has a built in `sorted()` fn, but you can optionally pass a *key function* that is applied to each element of the list. The sorting then occurs on the return value of the key function. \n",
    "\n",
    "For example if you wanted to sort integer based on modulo-13, can write the anon fn `lambda x:x%13` "
   ]
  },
  {
   "cell_type": "code",
   "execution_count": 18,
   "id": "332aa849",
   "metadata": {},
   "outputs": [
    {
     "data": {
      "text/plain": [
       "[6, 28, 496, 8128]"
      ]
     },
     "execution_count": 18,
     "metadata": {},
     "output_type": "execute_result"
    }
   ],
   "source": [
    "#sorts a list of perfect numbers with and without this key fn\n",
    "nums = [8128, 6, 496, 28]\n",
    "sorted(nums)\n"
   ]
  },
  {
   "cell_type": "code",
   "execution_count": 19,
   "id": "2e36bd44",
   "metadata": {},
   "outputs": [
    {
     "data": {
      "text/plain": [
       "[496, 28, 8128, 6]"
      ]
     },
     "execution_count": 19,
     "metadata": {},
     "output_type": "execute_result"
    }
   ],
   "source": [
    "sorted(nums, key=lambda x:x%13)"
   ]
  },
  {
   "cell_type": "markdown",
   "id": "9dc1c187",
   "metadata": {},
   "source": [
    "### Generators\n",
    "When a fn returns, all execution of further code in the fn body ceases. *Generators* answer the ?, \"what if fn paused, to be unpaused l8r rather than stopping completely?\"?\n",
    "\n",
    "- generator special type of fn that uses `yield` keyword in fn body to return value and defer execution until further notice\n",
    "\n",
    "When a fn that has a `yield` statement is called rather than returning its return value (it does not have one) it returns a special generator object that is bound to the original function. You can obtain successive `yield` statements by calling `next()` fn on the generator\n"
   ]
  },
  {
   "cell_type": "code",
   "execution_count": 28,
   "id": "d14c675c",
   "metadata": {},
   "outputs": [],
   "source": [
    "def countdown():\n",
    "    yield 3\n",
    "    yield 2\n",
    "    yield 1\n",
    "    yield 'BLast bo0m'"
   ]
  },
  {
   "cell_type": "code",
   "execution_count": 29,
   "id": "b49ca818",
   "metadata": {},
   "outputs": [
    {
     "name": "stdout",
     "output_type": "stream",
     "text": [
      "2\n",
      "BLast bo0m\n"
     ]
    },
    {
     "ename": "StopIteration",
     "evalue": "",
     "output_type": "error",
     "traceback": [
      "\u001b[0;31m---------------------------------------------------------------------------\u001b[0m",
      "\u001b[0;31mStopIteration\u001b[0m                             Traceback (most recent call last)",
      "Cell \u001b[0;32mIn[29], line 7\u001b[0m\n\u001b[1;32m      5\u001b[0m y, z \u001b[38;5;241m=\u001b[39m \u001b[38;5;28mnext\u001b[39m(g), \u001b[38;5;28mnext\u001b[39m(g)\n\u001b[1;32m      6\u001b[0m \u001b[38;5;28mprint\u001b[39m(z)\n\u001b[0;32m----> 7\u001b[0m \u001b[38;5;28;43mnext\u001b[39;49m\u001b[43m(\u001b[49m\u001b[43mg\u001b[49m\u001b[43m)\u001b[49m\n",
      "\u001b[0;31mStopIteration\u001b[0m: "
     ]
    }
   ],
   "source": [
    "g = countdown()\n",
    "next(g)\n",
    "x= next(g)\n",
    "print(x)\n",
    "y, z = next(g), next(g)\n",
    "print(z)\n",
    "next(g)\n"
   ]
  },
  {
   "cell_type": "code",
   "execution_count": 30,
   "id": "26d45c5f",
   "metadata": {},
   "outputs": [
    {
     "name": "stdout",
     "output_type": "stream",
     "text": [
      "T-3\n",
      "T-2\n",
      "T-1\n",
      "BLast bo0m\n"
     ]
    }
   ],
   "source": [
    "# generators in `for loops` much more common than using `next()` fn\n",
    "for t in countdown():\n",
    "    if isinstance(t, int):\n",
    "        message= \"T-\" + str(t)\n",
    "    else:\n",
    "        message = t\n",
    "    print(message)"
   ]
  },
  {
   "cell_type": "code",
   "execution_count": 31,
   "id": "d25f492d",
   "metadata": {},
   "outputs": [],
   "source": [
    "def square_plus_one(n):\n",
    "    for x in range(n):\n",
    "        x2 = x*x\n",
    "        yield x2 + 1"
   ]
  },
  {
   "cell_type": "code",
   "execution_count": 33,
   "id": "45d38fd2",
   "metadata": {},
   "outputs": [
    {
     "name": "stdout",
     "output_type": "stream",
     "text": [
      "1\n",
      "2\n",
      "5\n"
     ]
    }
   ],
   "source": [
    "for sp1 in square_plus_one(3):\n",
    "    print(sp1)"
   ]
  },
  {
   "cell_type": "code",
   "execution_count": null,
   "id": "03c81d6e",
   "metadata": {},
   "outputs": [],
   "source": []
  }
 ],
 "metadata": {
  "kernelspec": {
   "display_name": "Python 3 (ipykernel)",
   "language": "python",
   "name": "python3"
  },
  "language_info": {
   "codemirror_mode": {
    "name": "ipython",
    "version": 3
   },
   "file_extension": ".py",
   "mimetype": "text/x-python",
   "name": "python",
   "nbconvert_exporter": "python",
   "pygments_lexer": "ipython3",
   "version": "3.9.16"
  }
 },
 "nbformat": 4,
 "nbformat_minor": 5
}

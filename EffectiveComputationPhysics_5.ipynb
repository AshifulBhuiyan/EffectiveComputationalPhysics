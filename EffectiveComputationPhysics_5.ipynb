{
 "cells": [
  {
   "attachments": {},
   "cell_type": "markdown",
   "id": "115dabcb",
   "metadata": {},
   "source": [
    "# Operating with Functions\n",
    "    `def <name>(args):\n",
    "        \"\"\"<docstring>\"\"\"\n",
    "        <body>`\n",
    "        \n"
   ]
  },
  {
   "cell_type": "code",
   "execution_count": 1,
   "id": "41f9eed0",
   "metadata": {
    "vscode": {
     "languageId": "python"
    }
   },
   "outputs": [],
   "source": [
    "def power(base, x):\n",
    "    return base**x"
   ]
  },
  {
   "cell_type": "code",
   "execution_count": 2,
   "id": "402609fb",
   "metadata": {
    "vscode": {
     "languageId": "python"
    }
   },
   "outputs": [
    {
     "data": {
      "text/plain": [
       "25"
      ]
     },
     "execution_count": 2,
     "metadata": {},
     "output_type": "execute_result"
    }
   ],
   "source": [
    "power(5,2)"
   ]
  },
  {
   "cell_type": "code",
   "execution_count": 3,
   "id": "ac1c7738",
   "metadata": {
    "vscode": {
     "languageId": "python"
    }
   },
   "outputs": [],
   "source": [
    "from math import sin\n",
    "def sin_inv_x(x):\n",
    "    if x==0.0:\n",
    "        result = 0.0\n",
    "    else:\n",
    "        result = sin(1.0/x)\n",
    "    return result\n",
    "    "
   ]
  },
  {
   "cell_type": "code",
   "execution_count": 4,
   "id": "01865c93",
   "metadata": {
    "vscode": {
     "languageId": "python"
    }
   },
   "outputs": [
    {
     "data": {
      "text/plain": [
       "0.0"
      ]
     },
     "execution_count": 4,
     "metadata": {},
     "output_type": "execute_result"
    }
   ],
   "source": [
    "sin_inv_x(0)"
   ]
  },
  {
   "cell_type": "code",
   "execution_count": 5,
   "id": "c3deffff",
   "metadata": {
    "vscode": {
     "languageId": "python"
    }
   },
   "outputs": [],
   "source": [
    "def line(x, a=1, b=0):\n",
    "    return a*x+b"
   ]
  },
  {
   "cell_type": "code",
   "execution_count": 6,
   "id": "a41b0880",
   "metadata": {
    "vscode": {
     "languageId": "python"
    }
   },
   "outputs": [
    {
     "data": {
      "text/plain": [
       "42"
      ]
     },
     "execution_count": 6,
     "metadata": {},
     "output_type": "execute_result"
    }
   ],
   "source": [
    "line(42)"
   ]
  },
  {
   "cell_type": "code",
   "execution_count": 7,
   "id": "9385bb50",
   "metadata": {
    "vscode": {
     "languageId": "python"
    }
   },
   "outputs": [
    {
     "data": {
      "text/plain": [
       "84"
      ]
     },
     "execution_count": 7,
     "metadata": {},
     "output_type": "execute_result"
    }
   ],
   "source": [
    "line(42,2)"
   ]
  },
  {
   "cell_type": "code",
   "execution_count": 8,
   "id": "e4aed847",
   "metadata": {
    "vscode": {
     "languageId": "python"
    }
   },
   "outputs": [
    {
     "data": {
      "text/plain": [
       "86"
      ]
     },
     "execution_count": 8,
     "metadata": {},
     "output_type": "execute_result"
    }
   ],
   "source": [
    "line(42,2,2)"
   ]
  },
  {
   "attachments": {},
   "cell_type": "markdown",
   "id": "098f8d6c",
   "metadata": {},
   "source": [
    "### Scope\n",
    "- all functions share the notion that variables defined inside of a fn have lifetimes that end when the fn returns\n",
    "    - local scope\n",
    "- variables defined outside the fn have global scope with respect to fn at hand "
   ]
  },
  {
   "cell_type": "code",
   "execution_count": 9,
   "id": "dc683d50",
   "metadata": {
    "vscode": {
     "languageId": "python"
    }
   },
   "outputs": [
    {
     "data": {
      "text/plain": [
       "232"
      ]
     },
     "execution_count": 9,
     "metadata": {},
     "output_type": "execute_result"
    }
   ],
   "source": [
    "#global scope\n",
    "a=6\n",
    "b=42\n",
    "\n",
    "def func(x,y):\n",
    "    z=16\n",
    "    return a*x+b*y+z\n",
    "#global scope\n",
    "c=func(1,5)\n",
    "c"
   ]
  },
  {
   "attachments": {},
   "cell_type": "markdown",
   "id": "eb03b989",
   "metadata": {},
   "source": [
    "### Recursion"
   ]
  },
  {
   "cell_type": "code",
   "execution_count": 10,
   "id": "b4bb2974",
   "metadata": {
    "vscode": {
     "languageId": "python"
    }
   },
   "outputs": [],
   "source": [
    "def fib(n):\n",
    "    if n==0 or n==1:\n",
    "        return n\n",
    "    else:\n",
    "        return fib(n-1)+fib(n-2)"
   ]
  },
  {
   "cell_type": "code",
   "execution_count": 11,
   "id": "42d1bc1d",
   "metadata": {
    "vscode": {
     "languageId": "python"
    }
   },
   "outputs": [
    {
     "data": {
      "text/plain": [
       "2178309"
      ]
     },
     "execution_count": 11,
     "metadata": {},
     "output_type": "execute_result"
    }
   ],
   "source": [
    "fib(32)"
   ]
  },
  {
   "attachments": {},
   "cell_type": "markdown",
   "id": "8afae5ea",
   "metadata": {},
   "source": [
    "Fixed points (x==f(x)) are important so functions dont recurse and execute forever"
   ]
  },
  {
   "attachments": {},
   "cell_type": "markdown",
   "id": "92bf1366",
   "metadata": {},
   "source": [
    "\n",
    "### Lambdas\n",
    "- single line functions (also called anonfunc)\n",
    "- must only compute a single expression because statements not allowed and cnt assing local variables\n",
    "\n",
    "`lambda <arg>: <expr>`"
   ]
  },
  {
   "cell_type": "code",
   "execution_count": 12,
   "id": "a05abb5e",
   "metadata": {
    "vscode": {
     "languageId": "python"
    }
   },
   "outputs": [
    {
     "data": {
      "text/plain": [
       "81"
      ]
     },
     "execution_count": 12,
     "metadata": {},
     "output_type": "execute_result"
    }
   ],
   "source": [
    "# a simple lambda\n",
    "y=lambda x:x**2\n",
    "y(9)"
   ]
  },
  {
   "cell_type": "code",
   "execution_count": 13,
   "id": "e0022bba",
   "metadata": {
    "vscode": {
     "languageId": "python"
    }
   },
   "outputs": [
    {
     "data": {
      "text/plain": [
       "94"
      ]
     },
     "execution_count": 13,
     "metadata": {},
     "output_type": "execute_result"
    }
   ],
   "source": [
    "(lambda x, y=10: 2*x +y)(42)"
   ]
  },
  {
   "cell_type": "code",
   "execution_count": 14,
   "id": "10b9f398",
   "metadata": {
    "vscode": {
     "languageId": "python"
    }
   },
   "outputs": [
    {
     "data": {
      "text/plain": [
       "[0, 1, 4, 9, 16, 25, 36, 49, 64, 81]"
      ]
     },
     "execution_count": 14,
     "metadata": {},
     "output_type": "execute_result"
    }
   ],
   "source": [
    "f = lambda: [x**2 for x in range(10)]\n",
    "f()"
   ]
  },
  {
   "cell_type": "code",
   "execution_count": 15,
   "id": "b50907a0",
   "metadata": {
    "vscode": {
     "languageId": "python"
    }
   },
   "outputs": [],
   "source": [
    "d = {'null': lambda *args, **kwargs: None} # a lambda as a dict value"
   ]
  },
  {
   "cell_type": "code",
   "execution_count": 16,
   "id": "b3b14a53",
   "metadata": {
    "vscode": {
     "languageId": "python"
    }
   },
   "outputs": [],
   "source": [
    "# a lambda as a keyboard argument f in another fn\n",
    "def func(vals, f=lambda x:sum(x)/len(x)):\n",
    "    f(vals)"
   ]
  },
  {
   "cell_type": "code",
   "execution_count": 17,
   "id": "bceab465",
   "metadata": {
    "vscode": {
     "languageId": "python"
    }
   },
   "outputs": [],
   "source": [
    "func([6, 28, 496, 8128], lambda data: sum([x**2 for x in data]))"
   ]
  },
  {
   "attachments": {},
   "cell_type": "markdown",
   "id": "b8ce7b25",
   "metadata": {},
   "source": [
    "Common use for lambadas is when sorting a lit or container, python has a built in `sorted()` fn, but you can optionally pass a *key function* that is applied to each element of the list. The sorting then occurs on the return value of the key function. \n",
    "\n",
    "For example if you wanted to sort integer based on modulo-13, can write the anon fn `lambda x:x%13` "
   ]
  },
  {
   "cell_type": "code",
   "execution_count": 18,
   "id": "332aa849",
   "metadata": {
    "vscode": {
     "languageId": "python"
    }
   },
   "outputs": [
    {
     "data": {
      "text/plain": [
       "[6, 28, 496, 8128]"
      ]
     },
     "execution_count": 18,
     "metadata": {},
     "output_type": "execute_result"
    }
   ],
   "source": [
    "#sorts a list of perfect numbers with and without this key fn\n",
    "nums = [8128, 6, 496, 28]\n",
    "sorted(nums)\n"
   ]
  },
  {
   "cell_type": "code",
   "execution_count": 19,
   "id": "2e36bd44",
   "metadata": {
    "vscode": {
     "languageId": "python"
    }
   },
   "outputs": [
    {
     "data": {
      "text/plain": [
       "[496, 28, 8128, 6]"
      ]
     },
     "execution_count": 19,
     "metadata": {},
     "output_type": "execute_result"
    }
   ],
   "source": [
    "sorted(nums, key=lambda x:x%13)"
   ]
  },
  {
   "attachments": {},
   "cell_type": "markdown",
   "id": "9dc1c187",
   "metadata": {},
   "source": [
    "### Generators\n",
    "When a fn returns, all execution of further code in the fn body ceases. *Generators* answer the ?, \"what if fn paused, to be unpaused l8r rather than stopping completely?\"?\n",
    "\n",
    "- generator special type of fn that uses `yield` keyword in fn body to return value and defer execution until further notice\n",
    "\n",
    "When a fn that has a `yield` statement is called rather than returning its return value (it does not have one) it returns a special generator object that is bound to the original function. You can obtain successive `yield` statements by calling `next()` fn on the generator\n"
   ]
  },
  {
   "cell_type": "code",
   "execution_count": 20,
   "id": "d14c675c",
   "metadata": {
    "vscode": {
     "languageId": "python"
    }
   },
   "outputs": [],
   "source": [
    "def countdown():\n",
    "    yield 3\n",
    "    yield 2\n",
    "    yield 1\n",
    "    yield 'BLast bo0m'"
   ]
  },
  {
   "cell_type": "code",
   "execution_count": 21,
   "id": "b49ca818",
   "metadata": {
    "vscode": {
     "languageId": "python"
    }
   },
   "outputs": [
    {
     "name": "stdout",
     "output_type": "stream",
     "text": [
      "2\n",
      "BLast bo0m\n"
     ]
    },
    {
     "ename": "StopIteration",
     "evalue": "",
     "output_type": "error",
     "traceback": [
      "\u001b[0;31m---------------------------------------------------------------------------\u001b[0m",
      "\u001b[0;31mStopIteration\u001b[0m                             Traceback (most recent call last)",
      "Cell \u001b[0;32mIn[21], line 7\u001b[0m\n\u001b[1;32m      5\u001b[0m y, z \u001b[39m=\u001b[39m \u001b[39mnext\u001b[39m(g), \u001b[39mnext\u001b[39m(g)\n\u001b[1;32m      6\u001b[0m \u001b[39mprint\u001b[39m(z)\n\u001b[0;32m----> 7\u001b[0m \u001b[39mnext\u001b[39;49m(g)\n",
      "\u001b[0;31mStopIteration\u001b[0m: "
     ]
    }
   ],
   "source": [
    "g = countdown()\n",
    "next(g)\n",
    "x= next(g)\n",
    "print(x)\n",
    "y, z = next(g), next(g)\n",
    "print(z)\n",
    "next(g)\n"
   ]
  },
  {
   "cell_type": "code",
   "execution_count": null,
   "id": "26d45c5f",
   "metadata": {
    "vscode": {
     "languageId": "python"
    }
   },
   "outputs": [
    {
     "name": "stdout",
     "output_type": "stream",
     "text": [
      "T-3\n",
      "T-2\n",
      "T-1\n",
      "BLast bo0m\n"
     ]
    }
   ],
   "source": [
    "# generators in `for loops` much more common than using `next()` fn\n",
    "for t in countdown():\n",
    "    if isinstance(t, int):\n",
    "        message= \"T-\" + str(t)\n",
    "    else:\n",
    "        message = t\n",
    "    print(message)"
   ]
  },
  {
   "cell_type": "code",
   "execution_count": null,
   "id": "d25f492d",
   "metadata": {
    "vscode": {
     "languageId": "python"
    }
   },
   "outputs": [],
   "source": [
    "def square_plus_one(n):\n",
    "    for x in range(n):\n",
    "        x2 = x*x\n",
    "        yield x2 + 1"
   ]
  },
  {
   "cell_type": "code",
   "execution_count": null,
   "id": "45d38fd2",
   "metadata": {
    "vscode": {
     "languageId": "python"
    }
   },
   "outputs": [
    {
     "name": "stdout",
     "output_type": "stream",
     "text": [
      "1\n",
      "2\n",
      "5\n"
     ]
    }
   ],
   "source": [
    "for sp1 in square_plus_one(3):\n",
    "    print(sp1)"
   ]
  },
  {
   "attachments": {},
   "cell_type": "markdown",
   "id": "03c81d6e",
   "metadata": {},
   "source": [
    "### Decorators\n",
    "\n",
    "- special flavor of fn that takes only one argument which is another function\n",
    "- useful for modifying the behavior of other functions withotu actually changing source code of the other functions\n",
    "- provide safe way of changing the source code of other functions"
   ]
  },
  {
   "cell_type": "code",
   "execution_count": 23,
   "id": "581a8565",
   "metadata": {
    "vscode": {
     "languageId": "python"
    }
   },
   "outputs": [],
   "source": [
    "def null(f):\n",
    "    \"\"\"Always return None.\"\"\"\n",
    "    return\n"
   ]
  },
  {
   "cell_type": "code",
   "execution_count": 24,
   "id": "82868c38",
   "metadata": {
    "vscode": {
     "languageId": "python"
    }
   },
   "outputs": [],
   "source": [
    "def identity(f):\n",
    "    \"\"\"Return the function\"\"\"\n",
    "    return f"
   ]
  },
  {
   "cell_type": "code",
   "execution_count": 25,
   "id": "6fc8a512",
   "metadata": {
    "vscode": {
     "languageId": "python"
    }
   },
   "outputs": [],
   "source": [
    "def self_referential(f):\n",
    "    \"\"\"Return the decorator.\"\"\"\n",
    "    return self_referential"
   ]
  },
  {
   "attachments": {},
   "cell_type": "markdown",
   "id": "fea45436",
   "metadata": {},
   "source": [
    "Python uses \"@\" as a special syntax for applying a decorator to a function definition\n",
    "On the line above the fn defeinition, place an @ folllowed by the decorator name:"
   ]
  },
  {
   "cell_type": "code",
   "execution_count": 26,
   "id": "3745e194",
   "metadata": {
    "vscode": {
     "languageId": "python"
    }
   },
   "outputs": [],
   "source": [
    "@null\n",
    "def nargs(*args, **kwargs):\n",
    "    return len(args) + len(kwargs)\n"
   ]
  },
  {
   "cell_type": "code",
   "execution_count": 27,
   "id": "09b64460",
   "metadata": {
    "vscode": {
     "languageId": "python"
    }
   },
   "outputs": [],
   "source": [
    "#above does the same as:\n",
    "def nargs(*args, **kwargs):\n",
    "    return len(args) + len(kwargs)\n",
    "nargs = null(nargs)"
   ]
  },
  {
   "cell_type": "code",
   "execution_count": 28,
   "id": "f9f6528d",
   "metadata": {
    "vscode": {
     "languageId": "python"
    }
   },
   "outputs": [
    {
     "data": {
      "text/plain": [
       "17"
      ]
     },
     "execution_count": 28,
     "metadata": {},
     "output_type": "execute_result"
    }
   ],
   "source": [
    "def plus1(f):\n",
    "    def wrapper(*args, **kwargs):\n",
    "        return f(*args, **kwargs) +1\n",
    "    return wrapper\n",
    "\n",
    "@plus1\n",
    "def power(base, x):\n",
    "    return base**x\n",
    "power(4,2)"
   ]
  },
  {
   "cell_type": "code",
   "execution_count": 32,
   "id": "a8a8dc0e",
   "metadata": {
    "vscode": {
     "languageId": "python"
    }
   },
   "outputs": [
    {
     "data": {
      "text/plain": [
       "5.0"
      ]
     },
     "execution_count": 32,
     "metadata": {},
     "output_type": "execute_result"
    }
   ],
   "source": [
    "@plus1\n",
    "@identity\n",
    "@plus1\n",
    "@plus1\n",
    "def root(x):\n",
    "    return x**0.5\n",
    "root(4)"
   ]
  },
  {
   "cell_type": "code",
   "execution_count": 33,
   "id": "c1354498",
   "metadata": {
    "vscode": {
     "languageId": "python"
    }
   },
   "outputs": [
    {
     "data": {
      "text/plain": [
       "8.0"
      ]
     },
     "execution_count": 33,
     "metadata": {},
     "output_type": "execute_result"
    }
   ],
   "source": [
    "def plus_n(n):\n",
    "    def dec(f):\n",
    "        def wrapper(*args, **kwargs):\n",
    "            return f(*args, **kwargs) + n\n",
    "        return wrapper\n",
    "    return dec\n",
    "\n",
    "@plus_n(6)\n",
    "def root(x):\n",
    "    return x**0.5\n",
    "root(4)"
   ]
  },
  {
   "cell_type": "code",
   "execution_count": null,
   "id": "cc655a74",
   "metadata": {
    "vscode": {
     "languageId": "python"
    }
   },
   "outputs": [],
   "source": []
  }
 ],
 "metadata": {
  "kernelspec": {
   "display_name": "Python 3 (ipykernel)",
   "language": "python",
   "name": "python3"
  }
 },
 "nbformat": 4,
 "nbformat_minor": 5
}

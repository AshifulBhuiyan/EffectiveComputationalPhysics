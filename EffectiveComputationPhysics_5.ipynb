{
 "cells": [
  {
   "cell_type": "markdown",
   "id": "115dabcb",
   "metadata": {},
   "source": [
    "# Operating with Functions\n",
    "    `def <name>(args):\n",
    "        \"\"\"<docstring>\"\"\"\n",
    "        <body>`\n",
    "        \n"
   ]
  },
  {
   "cell_type": "code",
   "execution_count": 1,
   "id": "41f9eed0",
   "metadata": {},
   "outputs": [],
   "source": [
    "def power(base, x):\n",
    "    return base**x"
   ]
  },
  {
   "cell_type": "code",
   "execution_count": 2,
   "id": "402609fb",
   "metadata": {},
   "outputs": [
    {
     "data": {
      "text/plain": [
       "25"
      ]
     },
     "execution_count": 2,
     "metadata": {},
     "output_type": "execute_result"
    }
   ],
   "source": [
    "power(5,2)"
   ]
  },
  {
   "cell_type": "code",
   "execution_count": 3,
   "id": "ac1c7738",
   "metadata": {},
   "outputs": [],
   "source": [
    "from math import sin\n",
    "def sin_inv_x(x):\n",
    "    if x==0.0:\n",
    "        result = 0.0\n",
    "    else:\n",
    "        result = sin(1.0/x)\n",
    "    return result\n",
    "    "
   ]
  },
  {
   "cell_type": "code",
   "execution_count": 5,
   "id": "01865c93",
   "metadata": {},
   "outputs": [
    {
     "data": {
      "text/plain": [
       "0.0"
      ]
     },
     "execution_count": 5,
     "metadata": {},
     "output_type": "execute_result"
    }
   ],
   "source": [
    "sin_inv_x(0)"
   ]
  },
  {
   "cell_type": "code",
   "execution_count": 6,
   "id": "c3deffff",
   "metadata": {},
   "outputs": [],
   "source": [
    "def line(x, a=1, b=0):\n",
    "    return a*x+b"
   ]
  },
  {
   "cell_type": "code",
   "execution_count": 7,
   "id": "a41b0880",
   "metadata": {},
   "outputs": [
    {
     "data": {
      "text/plain": [
       "42"
      ]
     },
     "execution_count": 7,
     "metadata": {},
     "output_type": "execute_result"
    }
   ],
   "source": [
    "line(42)"
   ]
  },
  {
   "cell_type": "code",
   "execution_count": 8,
   "id": "9385bb50",
   "metadata": {},
   "outputs": [
    {
     "data": {
      "text/plain": [
       "84"
      ]
     },
     "execution_count": 8,
     "metadata": {},
     "output_type": "execute_result"
    }
   ],
   "source": [
    "line(42,2)"
   ]
  },
  {
   "cell_type": "code",
   "execution_count": 9,
   "id": "e4aed847",
   "metadata": {},
   "outputs": [
    {
     "data": {
      "text/plain": [
       "86"
      ]
     },
     "execution_count": 9,
     "metadata": {},
     "output_type": "execute_result"
    }
   ],
   "source": [
    "line(42,2,2)"
   ]
  },
  {
   "cell_type": "markdown",
   "id": "098f8d6c",
   "metadata": {},
   "source": [
    "### Scope\n",
    "- all functions share the notion that variables defined inside of a fn have lifetimes that end when the fn returns\n",
    "    - local scope\n",
    "- variables defined outside the fn have global scope with respect to fn at hand "
   ]
  },
  {
   "cell_type": "code",
   "execution_count": 10,
   "id": "dc683d50",
   "metadata": {},
   "outputs": [
    {
     "data": {
      "text/plain": [
       "232"
      ]
     },
     "execution_count": 10,
     "metadata": {},
     "output_type": "execute_result"
    }
   ],
   "source": [
    "#global scope\n",
    "a=6\n",
    "b=42\n",
    "\n",
    "def func(x,y):\n",
    "    z=16\n",
    "    return a*x+b*y+z\n",
    "#global scope\n",
    "c=func(1,5)\n",
    "c"
   ]
  },
  {
   "cell_type": "code",
   "execution_count": 11,
   "id": "b4bb2974",
   "metadata": {},
   "outputs": [],
   "source": [
    "def fib(n):\n",
    "    if n==0 or n==1:\n",
    "        return n\n",
    "    else:\n",
    "        return fib(n-1)+fib(n-2)"
   ]
  },
  {
   "cell_type": "code",
   "execution_count": 21,
   "id": "42d1bc1d",
   "metadata": {},
   "outputs": [
    {
     "data": {
      "text/plain": [
       "2178309"
      ]
     },
     "execution_count": 21,
     "metadata": {},
     "output_type": "execute_result"
    }
   ],
   "source": [
    "fib(32)"
   ]
  },
  {
   "cell_type": "markdown",
   "id": "8afae5ea",
   "metadata": {},
   "source": [
    "Fixed points (x==f(x)) are important so functions dont recurse and execute forever"
   ]
  }
 ],
 "metadata": {
  "kernelspec": {
   "display_name": "Python 3 (ipykernel)",
   "language": "python",
   "name": "python3"
  },
  "language_info": {
   "codemirror_mode": {
    "name": "ipython",
    "version": 3
   },
   "file_extension": ".py",
   "mimetype": "text/x-python",
   "name": "python",
   "nbconvert_exporter": "python",
   "pygments_lexer": "ipython3",
   "version": "3.9.16"
  }
 },
 "nbformat": 4,
 "nbformat_minor": 5
}

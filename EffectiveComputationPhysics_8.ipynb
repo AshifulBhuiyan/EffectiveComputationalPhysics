{
 "cells": [
  {
   "attachments": {},
   "cell_type": "markdown",
   "metadata": {},
   "source": [
    "# Regular Expressions\n",
    "\n",
    "### Messy Magnetism\n",
    "\n",
    "### Metacharacters on the Command Line\n",
    "\n",
    "### Lising Files with Simple Patterns\n",
    "\n",
    "### Globally Finding Filenames with Patterns\n",
    "\n",
    "### irregular expressions\n",
    "\n",
    "### Representing any character (.)\n",
    "\n",
    "### Escaping metacharacters (\\ )\n",
    "\n",
    "### Escaping Literals\n",
    "\n",
    "### Finding either one pattern or another (|)\n",
    "\n",
    "### Character sets ([...])\n",
    "\n",
    "### Key Features of Character Sets\n",
    "\n",
    "### grep, sed, and awk\n",
    "\n",
    "### Finding Patterns in Files (grep)\n",
    "\n",
    "### Extended Excercises with grep\n",
    "\n",
    "### Finding and Replacing Patterns in Files (sed)\n",
    "\n",
    "### Finding and Replacing a Complex Pattern\n",
    "\n",
    "### sed Extras\n",
    "\n",
    "### Maniplulating Columns of Data (awk)\n",
    "\n",
    "### Python Regular Expressions\n",
    "\n",
    "### \n"
   ]
  },
  {
   "attachments": {},
   "cell_type": "markdown",
   "metadata": {},
   "source": []
  }
 ],
 "metadata": {
  "language_info": {
   "name": "python"
  },
  "orig_nbformat": 4
 },
 "nbformat": 4,
 "nbformat_minor": 2
}
